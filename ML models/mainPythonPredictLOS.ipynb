{
 "cells": [
  {
   "cell_type": "code",
   "execution_count": 1,
   "metadata": {},
   "outputs": [
    {
     "name": "stderr",
     "output_type": "stream",
     "text": [
      "/home/shyam/anaconda3/envs/ml_gpu/lib/python3.7/site-packages/tensorflow/python/framework/dtypes.py:526: FutureWarning: Passing (type, 1) or '1type' as a synonym of type is deprecated; in a future version of numpy, it will be understood as (type, (1,)) / '(1,)type'.\n",
      "  _np_qint8 = np.dtype([(\"qint8\", np.int8, 1)])\n",
      "/home/shyam/anaconda3/envs/ml_gpu/lib/python3.7/site-packages/tensorflow/python/framework/dtypes.py:527: FutureWarning: Passing (type, 1) or '1type' as a synonym of type is deprecated; in a future version of numpy, it will be understood as (type, (1,)) / '(1,)type'.\n",
      "  _np_quint8 = np.dtype([(\"quint8\", np.uint8, 1)])\n",
      "/home/shyam/anaconda3/envs/ml_gpu/lib/python3.7/site-packages/tensorflow/python/framework/dtypes.py:528: FutureWarning: Passing (type, 1) or '1type' as a synonym of type is deprecated; in a future version of numpy, it will be understood as (type, (1,)) / '(1,)type'.\n",
      "  _np_qint16 = np.dtype([(\"qint16\", np.int16, 1)])\n",
      "/home/shyam/anaconda3/envs/ml_gpu/lib/python3.7/site-packages/tensorflow/python/framework/dtypes.py:529: FutureWarning: Passing (type, 1) or '1type' as a synonym of type is deprecated; in a future version of numpy, it will be understood as (type, (1,)) / '(1,)type'.\n",
      "  _np_quint16 = np.dtype([(\"quint16\", np.uint16, 1)])\n",
      "/home/shyam/anaconda3/envs/ml_gpu/lib/python3.7/site-packages/tensorflow/python/framework/dtypes.py:530: FutureWarning: Passing (type, 1) or '1type' as a synonym of type is deprecated; in a future version of numpy, it will be understood as (type, (1,)) / '(1,)type'.\n",
      "  _np_qint32 = np.dtype([(\"qint32\", np.int32, 1)])\n",
      "/home/shyam/anaconda3/envs/ml_gpu/lib/python3.7/site-packages/tensorflow/python/framework/dtypes.py:535: FutureWarning: Passing (type, 1) or '1type' as a synonym of type is deprecated; in a future version of numpy, it will be understood as (type, (1,)) / '(1,)type'.\n",
      "  np_resource = np.dtype([(\"resource\", np.ubyte, 1)])\n"
     ]
    }
   ],
   "source": [
    "#Uses the full matrix - not upper triangular matrix\n",
    "# Output: (K*1) vector that predicts whether each of the K possible locations of the AP will have LOS with the current new client.\n",
    "\n",
    "#While testing, 0s are preferred as the new LOS element. See test_next_batch(). Search for #preferZerosHere\n",
    "\n",
    "from __future__ import print_function\n",
    "\n",
    "import numpy as np\n",
    "##Tensorflow compatibility - do not use version 2\n",
    "import tensorflow as tf\n",
    "\n",
    "import random\n",
    "from random import shuffle\n",
    "\n",
    "\n",
    "from sklearn.metrics import confusion_matrix\n",
    "from sklearn.preprocessing import StandardScaler\n",
    "\n",
    "import matplotlib.pyplot as plt"
   ]
  },
  {
   "cell_type": "code",
   "execution_count": 2,
   "metadata": {},
   "outputs": [],
   "source": [
    "import os\n",
    "os.environ[\"CUDA_DEVICE_ORDER\"]=\"PCI_BUS_ID\"   \n",
    "os.environ[\"CUDA_VISIBLE_DEVICES\"]=\"0\""
   ]
  },
  {
   "cell_type": "code",
   "execution_count": 3,
   "metadata": {},
   "outputs": [
    {
     "name": "stdout",
     "output_type": "stream",
     "text": [
      "1.13.2\n",
      "True\n",
      "/device:GPU:0\n"
     ]
    }
   ],
   "source": [
    "print(tf.__version__)\n",
    "print(tf.test.is_gpu_available())\n",
    "print(tf.test.gpu_device_name())\n",
    "#from tensorflow.python.client import device_lib\n",
    "#print(device_lib.list_local_devices())"
   ]
  },
  {
   "cell_type": "markdown",
   "metadata": {},
   "source": [
    "#### Metrics used for testing performance\n",
    "\n",
    "For the case when the new known LOS element between the new STA and current AP location is used as part of input features:\n",
    "\n",
    "$$ metric\\_all\\_all = \\frac{\\text{Total correct predictions (0 and 1)}}{\\text{Total test case input count}}$$\n",
    "$$ metric\\_all\\_0 = \\frac{\\text{Total correct predictions (0 and 1) when test input is 0}}{\\text{Total test case input count when test input is 0}}$$\n",
    "\n",
    "$$ metric\\_1\\_0 = \\frac{\\text{Total correct predictions (1's only) when test input is 0}}{\\text{Total test case inputs (1's only) when test input is 0}}$$\n",
    "\n"
   ]
  },
  {
   "cell_type": "code",
   "execution_count": 4,
   "metadata": {},
   "outputs": [
    {
     "name": "stdout",
     "output_type": "stream",
     "text": [
      "Number of input Features: 193\n"
     ]
    }
   ],
   "source": [
    "###### Parameters\n",
    "\n",
    "n_clients = 6  # or 6, 11, 21\n",
    "n_AP_locations = 31\n",
    "\n",
    "#Using dataset with only distance, hop distance, and STA connectivity matrices. Contains simulated errors\n",
    "exp = 'feb17_200locations/'    #correlated\n",
    "#exp = 'Distance_and_Hop_Distance/data-with-error/40percent/'    #Only data for 6 clients\n",
    "\n",
    "#################################################\n",
    "# Parameters to tweak\n",
    "\n",
    "flag_AP_STA_LOS = True          #True if the STA-AP LOS matrix is included as input\n",
    "flag_los = True     #True if using sta-sta LOS \n",
    "flag_sta_sta_hopDist = False #True if using hop distance between sta-sta\n",
    "flag_sta_sta_dist = False    # True if using distance matrix between sta-sta\n",
    "flag_STA_Location = False   #True if location of STAs are used\n",
    "flag_oneLocation = True     #True if the one known AP location for known STA - AP LOS element is included\n",
    "flag_oneLocation_LOS = True #True if the one known STA - AP LOS element is included\n",
    "flag_sequential_data = False    #True if you want to separate training and testing data in time- testing data occurs after training data in time\n",
    "flag_trainWithOnly0LOS = True    #True if you want to train with only the samples which have current_STA-current_AP_Location LOS =0\n",
    "\n",
    "\n",
    "#Testing Flags##################################Begin\n",
    "flag_preferZerosTesting = True    #If True, Zeros will be picked as new LOS input if present.\n",
    "\n",
    "#Testing Flags##################################End\n",
    "\n",
    "train_split = 0.7    #was 0.7################\n",
    "learning_rate_init = 0.2   #was 0.1\n",
    "training_epochs = 50000   #was 1 million\n",
    "batch_size = 256  #was 256\n",
    "\n",
    "# Network Parameters\n",
    "n_hidden_1 = 1024 # 1st layer number of neurons\n",
    "n_hidden_2 = 512 # 2nd layer number of neurons\n",
    "# n_hidden_3 = 256 # 3rd layer number of neurons \n",
    "# n_hidden_4 = 256\n",
    "# n_hidden_5 = 64\n",
    "#################################################\n",
    "\n",
    "flag_AP_location_vector = False\n",
    "\n",
    "flag_plot = True    #To enable plots \n",
    "flag_31pts = True   #Keep as true\n",
    "\n",
    "flag_limitTimeSteps = False    #Use when only a certain number of data points are required\n",
    "timeStepsToTrain = 5000         #Has effect only when flag_limitTimeSteps is True\n",
    "\n",
    "\n",
    "learning_rate_iter = 1000\n",
    "learning_rate_decay = 0.9\n",
    "\n",
    "\n",
    "display_train_step = 100\n",
    "display_test_step = 1000\n",
    "\n",
    "\n",
    "\n",
    "\n",
    "n_features = 0\n",
    "if flag_AP_STA_LOS:\n",
    "    n_features +=((n_clients - 1) * 31 )\n",
    "if flag_los:\n",
    "    n_features +=n_clients*n_clients \n",
    "\n",
    "if flag_AP_location_vector:\n",
    "    n_features += n_AP_locations\n",
    "if flag_STA_Location:\n",
    "    n_features += n_clients*3\n",
    "if flag_sta_sta_hopDist:\n",
    "    n_features +=n_clients*n_clients \n",
    "if flag_sta_sta_dist:\n",
    "    n_features +=n_clients*n_clients \n",
    "if flag_oneLocation:\n",
    "     n_features += 1\n",
    "if flag_oneLocation_LOS:\n",
    "     n_features += 1\n",
    "\n",
    "n_output = 31 if flag_31pts else 1\n",
    "loc_idx = None if flag_31pts else 0\n",
    "\n",
    "print(\"Number of input Features: \" + str(n_features))"
   ]
  },
  {
   "cell_type": "code",
   "execution_count": 5,
   "metadata": {},
   "outputs": [],
   "source": [
    "# Commented out code\n",
    "\n",
    "#Using new dataset with Location - this is the latest data\n",
    "#--------------------------------------------\n",
    "\n",
    "#exp = 'data/withLocation/data/data-sta-no/c21/'\n",
    "#exp = 'data/withLocation/data_with_errors/data-sta-no/c21/'\n",
    "#exp = 'data/withLocation/data_with_errors/data-obs-den/60p/'\n",
    "#exp = 'data/withLocation/data_with_errors/data-obs-map/map3/'\n",
    "\n",
    "#--------------------------------------------\n",
    "\n",
    "\n",
    "#If using the new dataset from 100*100 STAs\n",
    "#------------------------------------------\n",
    "#For 40% obstacle density\n",
    "# if n_clients == 21:\n",
    "#     exp = 'data/obs40percent/c21/'\n",
    "# elif n_clients == 11:\n",
    "#     exp = 'data/obs40percent/c11/'   \n",
    "# elif n_clients == 6:\n",
    "#     exp = 'data/obs40percent/c6/'   \n",
    "#------------------------------------------\n",
    "\n",
    "# #For Different obstacle densities - only 21 STAs\n",
    "# #------------------------------------------\n",
    "\n",
    "#exp = 'data/data-obs-densityAndMap/data-obs-den/20percent/'\n",
    "\n",
    "\n",
    "\n",
    "# #------------------------------------------\n",
    "\n",
    "\n",
    "# #For the older datasets\n",
    "# #------------------------------------------\n",
    "# if n_clients == 21:\n",
    "#     exp = 'data/c41-om1/'    #Has been replaced with data for 21 clients - new dataset - correlated - obstacle density = 43\n",
    "# # elif n_clients == 21:\n",
    "# #     exp = 'data/c21-om2/'\n",
    "# elif n_clients == 5:\n",
    "#     exp = 'data/c6-om1/'\n",
    "# elif n_clients == 6:\n",
    "#     exp = 'data/c6-om1/'    #Old dataset with higher obstacle density\n",
    "# # elif n_clients == 6:\n",
    "# #     exp = 'data/c6-obs11-3380/'    #New dataset with reduced obstacle density\n",
    "\n",
    "# #------------------------------------------"
   ]
  },
  {
   "cell_type": "code",
   "execution_count": 6,
   "metadata": {},
   "outputs": [
    {
     "name": "stdout",
     "output_type": "stream",
     "text": [
      "10000\n",
      "6973\n",
      "3027\n"
     ]
    }
   ],
   "source": [
    "## Importing Data\n",
    "\n",
    "los_sta_sta = np.load(exp+'los_sta_sta.npy')  # data_points x n_clients x n_clients\n",
    "los_ap_sta = np.load(exp+'los_ap_sta.npy').transpose(0,2,1)  # data_points x n_clients x possible_AP_pos\n",
    "#\n",
    "#dis_ap_sta = np.load(exp+'dis_ap_sta.npy').transpose(0,2,1)  # data_points x n_clients x possible_AP_pos\n",
    "if flag_STA_Location:\n",
    "    sta_loc = np.load(exp + 'loc_sta.npy')\n",
    "\n",
    "if flag_sta_sta_dist:\n",
    "    dis_sta_sta = np.load(exp+'dis_sta_sta.npy')  # data_points x n_clients x n_clients\n",
    "if flag_sta_sta_hopDist:\n",
    "    hopDist_sta = np.load(exp+'hop_sta_sta.npy')\n",
    "if flag_limitTimeSteps:\n",
    "    total_data_points = timeStepsToTrain\n",
    "    los_sta_sta = los_sta_sta[0:timeStepsToTrain ,:,:]\n",
    "    los_ap_sta = los_ap_sta[0:timeStepsToTrain  , : , :]\n",
    "    sta_loc = sta_loc[0:timeStepsToTrain  , : , :]\n",
    "    dis_sta_sta = dis_sta_sta[0:timeStepsToTrain  , : , :]\n",
    "    hopDist_sta = hopDist_sta[0:timeStepsToTrain  , : , :]\n",
    "else:\n",
    "    total_data_points = los_sta_sta.shape[0]\n",
    "       \n",
    "# print(dis_sta_sta.shape)\n",
    "# print(hopDist_sta.shape)\n",
    "# print(dis_sta_sta[3000:3010,:,:])\n",
    "#print(hopDist_sta[3000:3010,:,:])\n",
    "print(total_data_points)\n",
    "\n",
    "x = np.sum(los_ap_sta)*1.0/los_ap_sta.size\n",
    "pos_weight = (1-x)/x\n",
    "#print(pos_weight)\n",
    "\n",
    "\n",
    "if flag_sequential_data:\n",
    "    trainDataLimit = int(train_split * total_data_points)\n",
    "    train_losSS = los_sta_sta[0:trainDataLimit,:,:]\n",
    "    train_losAS = los_ap_sta[0:trainDataLimit,:,:]\n",
    "    test_losSS = los_sta_sta[trainDataLimit:,:,:]\n",
    "    test_losAS = los_ap_sta[trainDataLimit:,:,:]\n",
    "else:\n",
    "    rnd_indices = np.random.rand(total_data_points) < train_split\n",
    "    train_losSS = los_sta_sta[rnd_indices,:,:]\n",
    "    train_losAS = los_ap_sta[rnd_indices,:,:]\n",
    "    test_losSS = los_sta_sta[~rnd_indices,:,:]\n",
    "    test_losAS = los_ap_sta[~rnd_indices,:,:]\n",
    "\n",
    "\n",
    "if flag_STA_Location:\n",
    "    train_sta_loc = sta_loc[rnd_indices,:,:]\n",
    "    test_sta_loc = sta_loc[~rnd_indices,:,:]\n",
    "    norm_mean_locX = np.mean(train_sta_loc[:,:,0])\n",
    "    norm_mean_locY = np.mean(train_sta_loc[:,:,1])\n",
    "    norm_mean_locZ = np.mean(train_sta_loc[:,:,2])\n",
    "    norm_std_locX = np.std(train_sta_loc[:,:,0])\n",
    "    norm_std_locY = np.std(train_sta_loc[:,:,1])\n",
    "    norm_std_locZ = np.std(train_sta_loc[:,:,2])\n",
    "if flag_sta_sta_dist:\n",
    "    train_dis_sta_sta = dis_sta_sta[rnd_indices,:,:]\n",
    "    test_dis_sta_sta = dis_sta_sta[~rnd_indices,:,:]\n",
    "    norm_mean_dis_sta_sta = np.mean(train_dis_sta_sta)\n",
    "    norm_std_dis_sta_sta = np.std(train_dis_sta_sta)\n",
    "    #Normalizing both training and test data here\n",
    "    train_dis_sta_sta = (train_dis_sta_sta[:,:,:] - norm_mean_dis_sta_sta)/norm_std_dis_sta_sta\n",
    "    test_dis_sta_sta = (test_dis_sta_sta[:,:,:] - norm_mean_dis_sta_sta)/norm_std_dis_sta_sta\n",
    "    #print(train_dis_sta_sta)\n",
    "    \n",
    "if flag_sta_sta_hopDist:\n",
    "    train_hopDist_sta = hopDist_sta[rnd_indices,:,:]\n",
    "    test_hopDist_sta = hopDist_sta[~rnd_indices,:,:]\n",
    "    norm_mean_hopDist_sta = np.mean(train_hopDist_sta)\n",
    "    norm_std_hopDist_sta = np.std(train_hopDist_sta)\n",
    "    #Normalizing both training and test data here\n",
    "    train_hopDist_sta = (train_hopDist_sta[:,:,:] - norm_mean_hopDist_sta)/norm_std_hopDist_sta\n",
    "    test_hopDist_sta = (test_hopDist_sta[:,:,:] - norm_mean_hopDist_sta)/norm_std_hopDist_sta\n",
    "    #print(norm_mean_hopDist_sta, norm_std_hopDist_sta)\n",
    "\n",
    "total_train_points = train_losSS.shape[0]\n",
    "total_test_points = test_losSS.shape[0]\n",
    "print(total_train_points)\n",
    "print(total_test_points)"
   ]
  },
  {
   "cell_type": "code",
   "execution_count": 7,
   "metadata": {},
   "outputs": [
    {
     "name": "stdout",
     "output_type": "stream",
     "text": [
      "WARNING:tensorflow:From /home/shyam/anaconda3/envs/ml_gpu/lib/python3.7/site-packages/tensorflow/python/framework/op_def_library.py:263: colocate_with (from tensorflow.python.framework.ops) is deprecated and will be removed in a future version.\n",
      "Instructions for updating:\n",
      "Colocations handled automatically by placer.\n",
      "\n",
      "WARNING: The TensorFlow contrib module will not be included in TensorFlow 2.0.\n",
      "For more information, please see:\n",
      "  * https://github.com/tensorflow/community/blob/master/rfcs/20180907-contrib-sunset.md\n",
      "  * https://github.com/tensorflow/addons\n",
      "If you depend on functionality not listed there, please file an issue.\n",
      "\n",
      "WARNING:tensorflow:From <ipython-input-7-fb8eeb545860>:9: dense (from tensorflow.python.layers.core) is deprecated and will be removed in a future version.\n",
      "Instructions for updating:\n",
      "Use keras.layers.dense instead.\n",
      "WARNING:tensorflow:From /home/shyam/anaconda3/envs/ml_gpu/lib/python3.7/site-packages/tensorflow/python/ops/math_ops.py:3066: to_int32 (from tensorflow.python.ops.math_ops) is deprecated and will be removed in a future version.\n",
      "Instructions for updating:\n",
      "Use tf.cast instead.\n"
     ]
    }
   ],
   "source": [
    "##### Building the NN Graph\n",
    "\n",
    "# tf Graph input\n",
    "X = tf.placeholder(\"float\", [None, n_features])\n",
    "Y = tf.placeholder(\"float\", [None, n_output])\n",
    "learning_rate = tf.Variable(learning_rate_init, trainable=False)\n",
    "\n",
    "initializer = tf.contrib.layers.xavier_initializer()\n",
    "h0 = tf.layers.dense(X, n_hidden_1, activation=tf.nn.relu, kernel_initializer=initializer)\n",
    "\n",
    "#h0 = tf.nn.dropout(h0, 0.8)\n",
    "h1 = tf.layers.dense(h0, n_hidden_2, activation=tf.nn.relu, kernel_initializer=initializer)\n",
    "#h1 = tf.nn.dropout(h1, 0.8)\n",
    "#h2 = tf.layers.dense(h1, n_hidden_3, activation=tf.nn.relu, kernel_initializer=initializer)\n",
    "#h2 = tf.nn.dropout(h2, 0.8)\n",
    "#h3 = tf.layers.dense(h2, n_hidden_4, activation=tf.nn.relu, kernel_initializer=initializer)\n",
    "# h3 = tf.nn.dropout(h3, 0.8)\n",
    "out = tf.layers.dense(h1, n_output, activation=None)\n",
    "\n",
    "cross_entropy = tf.nn.weighted_cross_entropy_with_logits(targets=Y, logits=out, pos_weight=pos_weight)\n",
    "cost = tf.reduce_mean(tf.reduce_mean(cross_entropy, axis=1)) # reduce_mean vs. reduce_sum\n",
    "\n",
    "optimizer = tf.train.MomentumOptimizer(learning_rate=learning_rate, momentum=0.9)\n",
    "train_op = optimizer.minimize(cost)\n",
    "\n",
    "predicted = tf.nn.sigmoid(out)\n",
    "pred_labels = tf.round(predicted)    #Rounds to nearest integer\n",
    "correct_pred = tf.equal(pred_labels, Y)\n",
    "accuracy = tf.reduce_mean(tf.cast(correct_pred, tf.float32))\n",
    "\n",
    "# Initialize the variables (i.e. assign their default value)\n",
    "init = tf.global_variables_initializer()\n",
    "\n",
    "new_learning_rate = tf.placeholder(tf.float32, shape=[])\n",
    "learning_rate_update = tf.assign(learning_rate, new_learning_rate)    "
   ]
  },
  {
   "cell_type": "code",
   "execution_count": 8,
   "metadata": {},
   "outputs": [],
   "source": [
    "def train_next_batch(batch_size):\n",
    "    # Select samples of batch_size from training set\n",
    "    batch_index = random.sample(range(total_train_points), batch_size)\n",
    "    losSS = train_losSS[batch_index,:,:]\n",
    "    losAS = train_losAS[batch_index,:,:]\n",
    "    #disSS = train_disSS[batch_index,:,:]\n",
    "    #disAS = train_disAS[batch_index,:,:]\n",
    "    if flag_STA_Location:\n",
    "        sta_loc_current = train_sta_loc[batch_index,:,:]\n",
    "    if flag_sta_sta_dist:\n",
    "        dis_sta_sta_current = train_dis_sta_sta[batch_index,:,:]\n",
    "    if flag_sta_sta_hopDist:\n",
    "        hopDist_sta_current = train_hopDist_sta[batch_index,:,:]\n",
    "    \n",
    "    # Random permutations \n",
    "    idx_shuffle = list(range(losSS.shape[1]))    #shape[1] corresponds to each STA\n",
    "    #print(idx_shuffle)\n",
    "    for idx in range(batch_size):\n",
    "        shuffle(idx_shuffle)    #shuffles the array\n",
    "        tmp = losSS[idx,idx_shuffle,:]    #Shuffles between STAs within one set of a batch - row wise\n",
    "        tmp = tmp[:,idx_shuffle]          #shuffles column-wise for data consistency\n",
    "        losSS[idx,:,:] = tmp\n",
    "        losAS[idx,:,:] = losAS[idx,idx_shuffle,:]\n",
    "        if flag_STA_Location:\n",
    "            sta_loc_current[idx, : :] = sta_loc_current[idx,idx_shuffle,:]\n",
    "        if flag_sta_sta_dist:     #already normalized\n",
    "            tmp = dis_sta_sta_current[idx,idx_shuffle,:]    #Shuffles between STAs within one set of a batch - row wise\n",
    "            tmp = tmp[:,idx_shuffle]          #shuffles column-wise for data consistency\n",
    "            dis_sta_sta_current[idx,:,:] = tmp\n",
    "        if flag_sta_sta_hopDist:     #already normalized\n",
    "            tmp = hopDist_sta_current[idx,idx_shuffle,:]    #Shuffles between STAs within one set of a batch - row wise\n",
    "            tmp = tmp[:,idx_shuffle]          #shuffles column-wise for data consistency\n",
    "            hopDist_sta_current[idx,:,:] = tmp\n",
    "        \n",
    "    #normalizing the location\n",
    "    if flag_STA_Location:\n",
    "        X_locX = (sta_loc_current[:,:,0] - norm_mean_locX)/norm_std_locX\n",
    "        X_locY = (sta_loc_current[:,:,1] - norm_mean_locY)/norm_std_locY\n",
    "        X_locZ = (sta_loc_current[:,:,2] - norm_mean_locZ)/norm_std_locZ\n",
    "  \n",
    "    X1 = losSS.reshape((losSS.shape[0],(losSS.shape[1])*(losSS.shape[2])))\n",
    "    if flag_sta_sta_dist:\n",
    "        X_sta_sta_dist = dis_sta_sta_current.reshape((dis_sta_sta_current.shape[0],(dis_sta_sta_current.shape[1])*(dis_sta_sta_current.shape[2])))\n",
    "    if flag_sta_sta_hopDist: \n",
    "        X_sta_sta_hopDist = hopDist_sta_current.reshape((hopDist_sta_current.shape[0],(hopDist_sta_current.shape[1])*(hopDist_sta_current.shape[2])))\n",
    "    \n",
    "\n",
    "    X2 = losAS[:,:-1,].reshape((losAS.shape[0],(losAS.shape[1]-1)*(losAS.shape[2])))    #leaving out the last client\n",
    "\n",
    "    X1 = 2 * X1 - 1\n",
    "    X2 = 2 * X2 - 1\n",
    "    X = np.array([])\n",
    "    if flag_AP_STA_LOS:\n",
    "        X = X2 if (X.size==0) else np.concatenate((X, X1), axis =1)\n",
    "    #print(X.shape)\n",
    "    if flag_los:\n",
    "        X= X1 if (X.size==0) else np.concatenate((X, X1), axis =1)\n",
    "\n",
    "    if flag_AP_location_vector:\n",
    "        tempVector1 = np.arange(0,31)/30\n",
    "        tempVector2 = np.tile(tempVector1, (batch_size,1))\n",
    "        X = np.concatenate((X, tempVector2 ), axis = 1)\n",
    "    if flag_STA_Location:\n",
    "        X = np.concatenate((X_locX, X_locY, X_locZ), axis = 1) if (X.size==0) else np.concatenate((X, X_locX, X_locY, X_locZ), axis = 1)\n",
    "    if flag_sta_sta_dist:\n",
    "        X =  X_sta_sta_dist if (X.size==0) else np.concatenate((X,X_sta_sta_dist), axis=1)\n",
    "    if flag_sta_sta_hopDist:\n",
    "        X =  X_sta_sta_hopDist if (X.size==0) else np.concatenate((X,X_sta_sta_hopDist), axis=1)\n",
    "\n",
    "    Y = losAS[:,-1,:].reshape((batch_size,31))\n",
    "    #print(f\"X shape: {X.shape}, Y Shape: {Y.shape}\")\n",
    "    if flag_oneLocation or flag_oneLocation_LOS:\n",
    "        tempArray1 = np.zeros([batch_size, 1])\n",
    "        tempArray2 = np.zeros([batch_size, 1])\n",
    "        randLoc =np.random.randint(31 , size=(batch_size)) \n",
    "        tempArray1[:,0] = (randLoc +1)/32.0\n",
    "        for idx in range(batch_size):\n",
    "            tempArray2[idx, 0] = 2*Y[idx,randLoc[idx]] -1\n",
    "        #print(f\"tempArray shape: {tempArray.shape}\")\n",
    "        #print(np.concatenate((X,tempArray), axis=1))\n",
    "        if flag_oneLocation:\n",
    "            X =  tempArray1 if (X.size==0) else np.concatenate((X,tempArray1), axis=1)\n",
    "        if flag_oneLocation_LOS:\n",
    "            X =  tempArray2 if (X.size==0) else np.concatenate((X,tempArray2), axis=1)\n",
    "        #    print(\"X shape: \"+ str(X.shape))\n",
    "\n",
    "    return X, Y\n",
    "    \n",
    "def test_next_batch():\n",
    "    # Select samples of batch_size from test set\n",
    "#     batch_size = total_test_points\n",
    "#     batch_index = random.sample(xrange(total_test_points), batch_size)\n",
    "    losSS = test_losSS[:,:,:]\n",
    "    losAS = test_losAS[:,:,:]\n",
    "    #disSS = test_disSS[:,:,:]\n",
    "    #disAS = test_disAS[:,:,:]\n",
    "    if flag_STA_Location:\n",
    "        sta_loc_current = test_sta_loc[:,:,:]\n",
    "    if flag_sta_sta_dist:\n",
    "        dis_sta_sta_current = test_dis_sta_sta[:,:,:]\n",
    "    if flag_sta_sta_hopDist:\n",
    "        hopDist_sta_current = test_hopDist_sta[:,:,:]\n",
    "    if flag_STA_Location:\n",
    "        X_locX = (sta_loc_current[:,:,0] - norm_mean_locX)/norm_std_locX\n",
    "        X_locY = (sta_loc_current[:,:,1] - norm_mean_locY)/norm_std_locY\n",
    "        X_locZ = (sta_loc_current[:,:,2] - norm_mean_locZ)/norm_std_locZ\n",
    "        #print(\"locX shape for test:\"  + str(X_locX.shape))\n",
    "    \n",
    "    #r,c = np.triu_indices(losSS.shape[1],1)\n",
    "    \n",
    "    #For the full matrix\n",
    "    X1 = losSS.reshape((losSS.shape[0],(losSS.shape[1])*(losSS.shape[2])))\n",
    "    X = np.array([])\n",
    "    #For upper triangular matrix\n",
    "    #X1 = losSS[:,r,c]\n",
    "    X2 = losAS[:,:-1,].reshape((losAS.shape[0],(losAS.shape[1]-1)*(losAS.shape[2])))\n",
    "    if flag_sta_sta_dist:\n",
    "        X_sta_sta_dist = dis_sta_sta_current.reshape((dis_sta_sta_current.shape[0],(dis_sta_sta_current.shape[1])*(dis_sta_sta_current.shape[2])))\n",
    "    if flag_sta_sta_hopDist: \n",
    "        X_sta_sta_hopDist = hopDist_sta_current.reshape((hopDist_sta_current.shape[0],(hopDist_sta_current.shape[1])*(hopDist_sta_current.shape[2])))\n",
    "    \n",
    "\n",
    "    #X3 = disSS[:,r,c]\n",
    "    #X3 = (X3 - norm_mean_ss)/norm_std_ss\n",
    "    #X4 = disAS[:,:-1,].reshape((disAS.shape[0],(disAS.shape[1]-1)*(disAS.shape[2])))\n",
    "    #X4 = (X4 - norm_mean_as)/norm_std_as\n",
    "    X1 = 2 * X1 - 1\n",
    "    X2 = 2 * X2 - 1\n",
    "    #XA = np.concatenate((X1,X2), axis=1)\n",
    "    #XA = 2*XA - 1\n",
    "    #XB = np.concatenate((X3,X4), axis=1)\n",
    "    \n",
    "    if flag_AP_STA_LOS:\n",
    "        X = X2 if (X.size==0) else np.concatenate((X, X1), axis =1)\n",
    "\n",
    "    #X = np.array([])\n",
    "    if flag_los:\n",
    "        X= X1 if (X.size==0) else np.concatenate((X, X1), axis =1)\n",
    "        \n",
    "    if flag_AP_location_vector:\n",
    "        tempVector1 = np.arange(0,31)/30\n",
    "        tempVector2 = np.tile(tempVector1, (X.shape[0],1)) \n",
    "        X = np.concatenate((X, tempVector2 ), axis = 1)\n",
    "    if flag_STA_Location:\n",
    "        X = np.concatenate((X_locX, X_locY, X_locZ), axis = 1) if (X.size==0) else np.concatenate((X, X_locX, X_locY, X_locZ), axis = 1)\n",
    "\n",
    "    if flag_sta_sta_dist:\n",
    "        X =  X_sta_sta_dist if (X.size==0) else np.concatenate((X,X_sta_sta_dist), axis=1)\n",
    "    if flag_sta_sta_hopDist:\n",
    "        X =  X_sta_sta_hopDist if (X.size==0) else np.concatenate((X,X_sta_sta_hopDist), axis=1)\n",
    "    #print(\"X shape - test: \"+ str(X.shape))\n",
    "    Y = losAS[:,-1,:].reshape((total_test_points,31))  \n",
    "    #print(\"Y shape - test: \"+ str(Y.shape))\n",
    "    if flag_oneLocation or flag_oneLocation_LOS:\n",
    "        #preferZerosHere\n",
    "        tempArray1 = np.zeros([total_test_points, 1])\n",
    "        tempArray2 = np.zeros([total_test_points, 1])\n",
    "        randLoc =np.random.randint(31 , size=(total_test_points)) \n",
    "        \n",
    "        for idx in range(total_test_points):\n",
    "            if (flag_preferZerosTesting):\n",
    "                if np.sum(Y[idx,:]==0)==0:    #means there are no zeros in this vector\n",
    "                    tempArray2[idx, 0] = 1 #setting it to one, duh\n",
    "                    tempArray1[idx,0] = (randLoc[idx] +1)/32.0\n",
    "                    #print(f\"No zeros in test vector!!\")\n",
    "                else:\n",
    "                    #there are zeros in this Y vector\n",
    "                    tempArray2[idx, 0] = -1 #setting it to -1, duh\n",
    "                    positions0 = np.where(Y[idx,:]==0)\n",
    "                    #print(f\"Shape of positions0: {positions0[0].shape}\")\n",
    "                    tempArray1[idx,0] = (np.random.choice(positions0[0])+1)/32.0  #Randomly picking one zero position\n",
    "            else:\n",
    "                #Picking zeros and ones alike\n",
    "                tempArray1[idx,0] = (randLoc[idx] +1)/32.0\n",
    "                tempArray2[idx, 0] = 2*Y[idx, randLoc[idx]] - 1\n",
    "\n",
    "        #print(f\"tempArray shape: {tempArray.shape}\")\n",
    "        #print(np.concatenate((X,tempArray), axis=1))\n",
    "        if flag_oneLocation:\n",
    "            X =  tempArray1 if (X.size==0) else np.concatenate((X,tempArray1), axis=1)\n",
    "        if flag_oneLocation_LOS:\n",
    "            X =  tempArray2 if (X.size==0) else np.concatenate((X,tempArray2), axis=1)\n",
    "         \n",
    "    return X, Y"
   ]
  },
  {
   "cell_type": "code",
   "execution_count": null,
   "metadata": {},
   "outputs": [
    {
     "name": "stdout",
     "output_type": "stream",
     "text": [
      "<tf.Variable 'dense/kernel:0' shape=(193, 1024) dtype=float32_ref>\n",
      "<tf.Variable 'dense/bias:0' shape=(1024,) dtype=float32_ref>\n",
      "step: 0, loss: 0.6868, Train Acc: 0.502\n",
      "Correct Y[1290]: [0 0 0 0 0 0 0 0 0 0 0 0 0 0 0 0 0 0 0 0 0 0 0 0 0 0 0 0 0 0 0]\n",
      "Predicted Y[1290]: [1. 0. 0. 1. 0. 0. 1. 0. 1. 0. 1. 1. 1. 1. 0. 0. 0. 0. 1. 0. 1. 1. 1. 1.\n",
      " 1. 1. 1. 1. 0. 1. 1.]\n",
      "\n",
      "Validation Loss: 0.688  \u001b[1m Accuracy(metric_all_all)\u001b[0m: \u001b[1m 0.501 (0.501) \u001b[0m, Precision: 0.493, Recall: 0.606\n",
      "Testing only with 0 LOS input elements: \u001b[1m Accuracy (metric_all_0) \u001b[0m: \u001b[1m 0.492  \u001b[0m, Precision: 0.450, Recall: 0.606,\u001b[1m metric_1_0 \u001b[0m: 0.606\n",
      "Validation Random Permutation Accuracy: 0.503\n"
     ]
    },
    {
     "data": {
      "image/png": "[encoded data removed]",
      "text/plain": [
       "<Figure size 720x360 with 3 Axes>"
      ]
     },
     "metadata": {
      "needs_background": "light"
     },
     "output_type": "display_data"
    },
    {
     "name": "stdout",
     "output_type": "stream",
     "text": [
      "step: 1, loss: 0.6815, Train Acc: 0.506\n",
      "step: 100, loss: 0.5402, Train Acc: 0.763\n",
      "step: 200, loss: 0.4592, Train Acc: 0.821\n",
      "step: 300, loss: 0.4510, Train Acc: 0.819\n",
      "step: 400, loss: 0.4321, Train Acc: 0.832\n",
      "step: 500, loss: 0.4358, Train Acc: 0.831\n",
      "step: 600, loss: 0.4431, Train Acc: 0.826\n",
      "step: 700, loss: 0.4115, Train Acc: 0.848\n",
      "step: 800, loss: 0.4434, Train Acc: 0.826\n",
      "step: 900, loss: 0.4456, Train Acc: 0.822\n",
      "step: 1000, loss: 0.4258, Train Acc: 0.836\n",
      "Learning rate:  [0.2]\n",
      "Correct Y[89]: [0 1 0 0 0 0 0 0 0 0 0 0 0 0 0 0 0 0 0 0 0 0 0 0 0 0 0 0 0 0 0]\n",
      "Predicted Y[89]: [0. 0. 0. 0. 0. 0. 0. 0. 0. 0. 0. 0. 0. 0. 0. 0. 0. 0. 0. 0. 0. 0. 0. 0.\n",
      " 0. 0. 0. 0. 0. 0. 0.]\n",
      "\n",
      "Validation Loss: 0.769  \u001b[1m Accuracy(metric_all_all)\u001b[0m: \u001b[1m 0.588 (0.588) \u001b[0m, Precision: 0.999, Recall: 0.160\n"
     ]
    },
    {
     "name": "stderr",
     "output_type": "stream",
     "text": [
      "/home/shyam/anaconda3/envs/ml_gpu/lib/python3.7/site-packages/ipykernel_launcher.py:89: RuntimeWarning: invalid value encountered in double_scalars\n"
     ]
    },
    {
     "name": "stdout",
     "output_type": "stream",
     "text": [
      "Testing only with 0 LOS input elements: \u001b[1m Accuracy (metric_all_0) \u001b[0m: \u001b[1m 0.553  \u001b[0m, Precision: 0.789, Recall: 0.001,\u001b[1m metric_1_0 \u001b[0m: 0.001\n",
      "Validation Random Permutation Accuracy: 0.511\n"
     ]
    },
    {
     "data": {
      "image/png": "[encoded data removed]",
      "text/plain": [
       "<Figure size 720x360 with 3 Axes>"
      ]
     },
     "metadata": {
      "needs_background": "light"
     },
     "output_type": "display_data"
    },
    {
     "name": "stdout",
     "output_type": "stream",
     "text": [
      "step: 1100, loss: 0.4185, Train Acc: 0.840\n",
      "step: 1200, loss: 0.4875, Train Acc: 0.790\n",
      "step: 1300, loss: 0.4603, Train Acc: 0.805\n",
      "step: 1400, loss: 0.4492, Train Acc: 0.816\n",
      "step: 1500, loss: 0.4406, Train Acc: 0.822\n",
      "step: 1600, loss: 0.4311, Train Acc: 0.825\n",
      "step: 1700, loss: 0.4759, Train Acc: 0.799\n",
      "step: 1800, loss: 0.4555, Train Acc: 0.806\n",
      "step: 1900, loss: 0.4536, Train Acc: 0.817\n",
      "step: 2000, loss: 0.4628, Train Acc: 0.812\n",
      "Learning rate:  [0.18]\n",
      "Correct Y[2486]: [1 1 1 1 1 1 1 1 1 1 1 1 1 1 1 1 1 1 1 1 1 1 1 1 1 1 1 1 1 1 1]\n",
      "Predicted Y[2486]: [1. 1. 1. 1. 1. 1. 1. 1. 1. 1. 1. 1. 1. 1. 1. 1. 1. 1. 1. 1. 1. 1. 1. 1.\n",
      " 1. 1. 1. 1. 1. 1. 1.]\n",
      "\n",
      "Validation Loss: 0.742  \u001b[1m Accuracy(metric_all_all)\u001b[0m: \u001b[1m 0.589 (0.589) \u001b[0m, Precision: 0.998, Recall: 0.161\n",
      "Testing only with 0 LOS input elements: \u001b[1m Accuracy (metric_all_0) \u001b[0m: \u001b[1m 0.554  \u001b[0m, Precision: 0.863, Recall: 0.003,\u001b[1m metric_1_0 \u001b[0m: 0.003\n",
      "Validation Random Permutation Accuracy: 0.504\n"
     ]
    },
    {
     "data": {
      "image/png": "[encoded data removed]",
      "text/plain": [
       "<Figure size 720x360 with 3 Axes>"
      ]
     },
     "metadata": {
      "needs_background": "light"
     },
     "output_type": "display_data"
    },
    {
     "name": "stdout",
     "output_type": "stream",
     "text": [
      "step: 2100, loss: 0.4509, Train Acc: 0.818\n",
      "step: 2200, loss: 0.4791, Train Acc: 0.795\n",
      "step: 2300, loss: 0.4699, Train Acc: 0.804\n",
      "step: 2400, loss: 0.4090, Train Acc: 0.842\n",
      "step: 2500, loss: 0.4120, Train Acc: 0.842\n",
      "step: 2600, loss: 0.4361, Train Acc: 0.829\n",
      "step: 2700, loss: 0.4426, Train Acc: 0.816\n",
      "step: 2800, loss: 0.4622, Train Acc: 0.811\n",
      "step: 2900, loss: 0.4234, Train Acc: 0.829\n",
      "step: 3000, loss: 0.4345, Train Acc: 0.827\n",
      "Learning rate:  [0.162]\n",
      "Correct Y[1965]: [0 0 0 0 0 0 0 0 0 0 0 0 0 0 0 1 0 0 0 0 0 0 0 0 0 0 0 0 0 0 0]\n",
      "Predicted Y[1965]: [0. 0. 0. 0. 0. 0. 0. 0. 0. 0. 0. 0. 0. 0. 0. 0. 0. 0. 0. 0. 0. 0. 0. 0.\n",
      " 0. 0. 0. 0. 0. 0. 0.]\n",
      "\n",
      "Validation Loss: 0.761  \u001b[1m Accuracy(metric_all_all)\u001b[0m: \u001b[1m 0.589 (0.589) \u001b[0m, Precision: 0.998, Recall: 0.161\n",
      "Testing only with 0 LOS input elements: \u001b[1m Accuracy (metric_all_0) \u001b[0m: \u001b[1m 0.554  \u001b[0m, Precision: 0.853, Recall: 0.003,\u001b[1m metric_1_0 \u001b[0m: 0.003\n",
      "Validation Random Permutation Accuracy: 0.500\n"
     ]
    },
    {
     "data": {
      "image/png": "[encoded data removed]",
      "text/plain": [
       "<Figure size 720x360 with 3 Axes>"
      ]
     },
     "metadata": {
      "needs_background": "light"
     },
     "output_type": "display_data"
    },
    {
     "name": "stdout",
     "output_type": "stream",
     "text": [
      "step: 3100, loss: 0.4464, Train Acc: 0.814\n",
      "step: 3200, loss: 0.4631, Train Acc: 0.793\n",
      "step: 3300, loss: 0.4216, Train Acc: 0.827\n",
      "step: 3400, loss: 0.4484, Train Acc: 0.818\n",
      "step: 3500, loss: 0.4226, Train Acc: 0.832\n",
      "step: 3600, loss: 0.4637, Train Acc: 0.798\n",
      "step: 3700, loss: 0.4389, Train Acc: 0.819\n",
      "step: 3800, loss: 0.4439, Train Acc: 0.823\n",
      "step: 3900, loss: 0.4291, Train Acc: 0.826\n",
      "step: 4000, loss: 0.4404, Train Acc: 0.824\n",
      "Learning rate:  [0.1458]\n",
      "Correct Y[2472]: [1 1 1 1 1 1 1 1 1 0 1 1 1 1 1 1 1 1 1 1 1 1 1 1 1 1 1 1 1 1 0]\n",
      "Predicted Y[2472]: [0. 0. 0. 0. 0. 0. 0. 0. 0. 0. 0. 0. 0. 0. 0. 0. 0. 0. 0. 0. 0. 0. 0. 0.\n",
      " 0. 0. 0. 0. 0. 0. 0.]\n",
      "\n",
      "Validation Loss: 0.776  \u001b[1m Accuracy(metric_all_all)\u001b[0m: \u001b[1m 0.588 (0.588) \u001b[0m, Precision: 1.000, Recall: 0.161\n",
      "Testing only with 0 LOS input elements: \u001b[1m Accuracy (metric_all_0) \u001b[0m: \u001b[1m 0.554  \u001b[0m, Precision: 0.974, Recall: 0.002,\u001b[1m metric_1_0 \u001b[0m: 0.002\n",
      "Validation Random Permutation Accuracy: 0.504\n"
     ]
    },
    {
     "data": {
      "image/png": "[encoded data removed]",
      "text/plain": [
       "<Figure size 720x360 with 3 Axes>"
      ]
     },
     "metadata": {
      "needs_background": "light"
     },
     "output_type": "display_data"
    },
    {
     "name": "stdout",
     "output_type": "stream",
     "text": [
      "step: 4100, loss: 0.4282, Train Acc: 0.829\n",
      "step: 4200, loss: 0.4625, Train Acc: 0.801\n",
      "step: 4300, loss: 0.4151, Train Acc: 0.837\n",
      "step: 4400, loss: 0.4167, Train Acc: 0.834\n",
      "step: 4500, loss: 0.4962, Train Acc: 0.781\n",
      "step: 4600, loss: 0.4219, Train Acc: 0.835\n",
      "step: 4700, loss: 0.4488, Train Acc: 0.814\n",
      "step: 4800, loss: 0.4352, Train Acc: 0.829\n",
      "step: 4900, loss: 0.4090, Train Acc: 0.840\n",
      "step: 5000, loss: 0.4452, Train Acc: 0.812\n",
      "Learning rate:  [0.13122]\n",
      "Correct Y[1676]: [0 0 0 0 0 0 0 0 0 0 0 0 0 0 0 0 0 1 0 0 0 0 0 0 0 0 0 0 0 0 0]\n",
      "Predicted Y[1676]: [0. 0. 0. 0. 0. 0. 0. 0. 0. 0. 0. 0. 0. 0. 0. 0. 0. 0. 0. 0. 0. 0. 0. 0.\n",
      " 0. 0. 0. 0. 0. 0. 0.]\n",
      "\n",
      "Validation Loss: 0.770  \u001b[1m Accuracy(metric_all_all)\u001b[0m: \u001b[1m 0.589 (0.589) \u001b[0m, Precision: 0.996, Recall: 0.163\n",
      "Testing only with 0 LOS input elements: \u001b[1m Accuracy (metric_all_0) \u001b[0m: \u001b[1m 0.555  \u001b[0m, Precision: 0.873, Recall: 0.005,\u001b[1m metric_1_0 \u001b[0m: 0.005\n",
      "Validation Random Permutation Accuracy: 0.508\n"
     ]
    },
    {
     "data": {
      "image/png": "[encoded data removed]",
      "text/plain": [
       "<Figure size 720x360 with 3 Axes>"
      ]
     },
     "metadata": {
      "needs_background": "light"
     },
     "output_type": "display_data"
    },
    {
     "name": "stdout",
     "output_type": "stream",
     "text": [
      "step: 5100, loss: 0.4309, Train Acc: 0.828\n",
      "step: 5200, loss: 0.4551, Train Acc: 0.810\n",
      "step: 5300, loss: 0.4447, Train Acc: 0.814\n",
      "step: 5400, loss: 0.4436, Train Acc: 0.817\n",
      "step: 5500, loss: 0.4678, Train Acc: 0.800\n",
      "step: 5600, loss: 0.4522, Train Acc: 0.810\n",
      "step: 5700, loss: 0.4471, Train Acc: 0.814\n",
      "step: 5800, loss: 0.4217, Train Acc: 0.832\n",
      "step: 5900, loss: 0.4304, Train Acc: 0.827\n",
      "step: 6000, loss: 0.4323, Train Acc: 0.826\n",
      "Learning rate:  [0.118098]\n",
      "Correct Y[2051]: [1 0 0 0 0 0 0 0 0 0 0 0 0 0 0 0 0 0 0 0 0 0 0 0 0 0 0 0 0 0 0]\n",
      "Predicted Y[2051]: [0. 0. 0. 0. 0. 0. 0. 0. 0. 0. 0. 0. 0. 0. 0. 0. 0. 0. 0. 0. 0. 0. 0. 0.\n",
      " 0. 0. 0. 0. 0. 0. 0.]\n",
      "\n",
      "Validation Loss: 0.763  \u001b[1m Accuracy(metric_all_all)\u001b[0m: \u001b[1m 0.589 (0.589) \u001b[0m, Precision: 0.996, Recall: 0.163\n",
      "Testing only with 0 LOS input elements: \u001b[1m Accuracy (metric_all_0) \u001b[0m: \u001b[1m 0.555  \u001b[0m, Precision: 0.853, Recall: 0.005,\u001b[1m metric_1_0 \u001b[0m: 0.005\n",
      "Validation Random Permutation Accuracy: 0.507\n"
     ]
    },
    {
     "data": {
      "image/png": "[encoded data removed]",
      "text/plain": [
       "<Figure size 720x360 with 3 Axes>"
      ]
     },
     "metadata": {
      "needs_background": "light"
     },
     "output_type": "display_data"
    },
    {
     "name": "stdout",
     "output_type": "stream",
     "text": [
      "step: 6100, loss: 0.4321, Train Acc: 0.823\n",
      "step: 6200, loss: 0.4536, Train Acc: 0.813\n",
      "step: 6300, loss: 0.4475, Train Acc: 0.810\n",
      "step: 6400, loss: 0.4448, Train Acc: 0.819\n",
      "step: 6500, loss: 0.4436, Train Acc: 0.819\n",
      "step: 6600, loss: 0.4227, Train Acc: 0.824\n",
      "step: 6700, loss: 0.4473, Train Acc: 0.811\n",
      "step: 6800, loss: 0.4342, Train Acc: 0.824\n",
      "step: 6900, loss: 0.4045, Train Acc: 0.842\n",
      "step: 7000, loss: 0.4510, Train Acc: 0.808\n",
      "Learning rate:  [0.106288195]\n",
      "Correct Y[2185]: [1 1 1 1 1 1 1 1 1 1 1 1 1 1 1 1 1 1 1 1 1 1 1 1 1 1 1 1 1 1 1]\n",
      "Predicted Y[2185]: [1. 1. 1. 1. 1. 1. 1. 1. 1. 1. 1. 1. 1. 1. 1. 1. 1. 1. 1. 1. 1. 1. 1. 1.\n",
      " 1. 1. 1. 1. 1. 1. 1.]\n",
      "\n",
      "Validation Loss: 0.753  \u001b[1m Accuracy(metric_all_all)\u001b[0m: \u001b[1m 0.589 (0.589) \u001b[0m, Precision: 0.993, Recall: 0.163\n",
      "Testing only with 0 LOS input elements: \u001b[1m Accuracy (metric_all_0) \u001b[0m: \u001b[1m 0.555  \u001b[0m, Precision: 0.798, Recall: 0.005,\u001b[1m metric_1_0 \u001b[0m: 0.005\n",
      "Validation Random Permutation Accuracy: 0.504\n"
     ]
    },
    {
     "data": {
      "image/png": "[encoded data removed]",
      "text/plain": [
       "<Figure size 720x360 with 3 Axes>"
      ]
     },
     "metadata": {
      "needs_background": "light"
     },
     "output_type": "display_data"
    },
    {
     "name": "stdout",
     "output_type": "stream",
     "text": [
      "step: 7100, loss: 0.4313, Train Acc: 0.820\n",
      "step: 7200, loss: 0.4119, Train Acc: 0.845\n",
      "step: 7300, loss: 0.4637, Train Acc: 0.802\n",
      "step: 7400, loss: 0.4320, Train Acc: 0.827\n",
      "step: 7500, loss: 0.4371, Train Acc: 0.815\n",
      "step: 7600, loss: 0.4653, Train Acc: 0.803\n",
      "step: 7700, loss: 0.4397, Train Acc: 0.826\n",
      "step: 7800, loss: 0.4184, Train Acc: 0.831\n",
      "step: 7900, loss: 0.4485, Train Acc: 0.815\n",
      "step: 8000, loss: 0.4802, Train Acc: 0.792\n",
      "Learning rate:  [0.095659375]\n",
      "Correct Y[1335]: [1 1 1 1 1 1 1 1 1 1 1 1 1 1 1 1 1 1 0 1 1 1 1 1 1 1 1 1 1 1 1]\n",
      "Predicted Y[1335]: [0. 0. 0. 0. 0. 0. 0. 0. 0. 0. 0. 0. 0. 0. 0. 0. 0. 0. 0. 0. 0. 0. 0. 0.\n",
      " 0. 0. 0. 0. 0. 0. 0.]\n",
      "\n",
      "Validation Loss: 0.780  \u001b[1m Accuracy(metric_all_all)\u001b[0m: \u001b[1m 0.589 (0.589) \u001b[0m, Precision: 0.995, Recall: 0.164\n",
      "Testing only with 0 LOS input elements: \u001b[1m Accuracy (metric_all_0) \u001b[0m: \u001b[1m 0.555  \u001b[0m, Precision: 0.839, Recall: 0.005,\u001b[1m metric_1_0 \u001b[0m: 0.005\n",
      "Validation Random Permutation Accuracy: 0.507\n"
     ]
    },
    {
     "data": {
      "image/png": "[encoded data removed]",
      "text/plain": [
       "<Figure size 720x360 with 3 Axes>"
      ]
     },
     "metadata": {
      "needs_background": "light"
     },
     "output_type": "display_data"
    },
    {
     "name": "stdout",
     "output_type": "stream",
     "text": [
      "step: 8100, loss: 0.4183, Train Acc: 0.830\n",
      "step: 8200, loss: 0.4507, Train Acc: 0.812\n",
      "step: 8300, loss: 0.4472, Train Acc: 0.817\n",
      "step: 8400, loss: 0.4265, Train Acc: 0.826\n",
      "step: 8500, loss: 0.4594, Train Acc: 0.811\n",
      "step: 8600, loss: 0.3858, Train Acc: 0.857\n",
      "step: 8700, loss: 0.4433, Train Acc: 0.816\n",
      "step: 8800, loss: 0.3919, Train Acc: 0.849\n",
      "step: 8900, loss: 0.4053, Train Acc: 0.839\n",
      "step: 9000, loss: 0.4265, Train Acc: 0.827\n",
      "Learning rate:  [0.08609344]\n",
      "Correct Y[1376]: [0 0 0 0 0 1 0 0 0 0 0 0 1 0 0 0 0 0 0 0 0 0 0 0 0 0 0 0 0 1 0]\n",
      "Predicted Y[1376]: [0. 0. 0. 0. 0. 0. 0. 0. 0. 0. 0. 0. 0. 0. 0. 0. 0. 0. 0. 0. 0. 0. 0. 0.\n",
      " 0. 0. 0. 0. 0. 0. 0.]\n",
      "\n",
      "Validation Loss: 0.779  \u001b[1m Accuracy(metric_all_all)\u001b[0m: \u001b[1m 0.590 (0.590) \u001b[0m, Precision: 0.993, Recall: 0.165\n",
      "Testing only with 0 LOS input elements: \u001b[1m Accuracy (metric_all_0) \u001b[0m: \u001b[1m 0.555  \u001b[0m, Precision: 0.824, Recall: 0.007,\u001b[1m metric_1_0 \u001b[0m: 0.007\n",
      "Validation Random Permutation Accuracy: 0.511\n"
     ]
    },
    {
     "data": {
      "image/png": "[encoded data removed]",
      "text/plain": [
       "<Figure size 720x360 with 3 Axes>"
      ]
     },
     "metadata": {
      "needs_background": "light"
     },
     "output_type": "display_data"
    },
    {
     "name": "stdout",
     "output_type": "stream",
     "text": [
      "step: 9100, loss: 0.4212, Train Acc: 0.826\n",
      "step: 9200, loss: 0.4280, Train Acc: 0.827\n",
      "step: 9300, loss: 0.4439, Train Acc: 0.813\n",
      "step: 9400, loss: 0.4574, Train Acc: 0.804\n",
      "step: 9500, loss: 0.4273, Train Acc: 0.820\n",
      "step: 9600, loss: 0.4312, Train Acc: 0.828\n",
      "step: 9700, loss: 0.4279, Train Acc: 0.830\n",
      "step: 9800, loss: 0.4542, Train Acc: 0.805\n",
      "step: 9900, loss: 0.4530, Train Acc: 0.808\n",
      "step: 10000, loss: 0.4485, Train Acc: 0.810\n",
      "Learning rate:  [0.07748409]\n",
      "Correct Y[337]: [1 1 1 1 1 1 0 1 1 1 1 1 1 1 1 1 1 1 1 1 1 1 1 1 1 1 1 1 1 1 1]\n",
      "Predicted Y[337]: [0. 0. 0. 0. 0. 0. 0. 0. 0. 0. 0. 0. 0. 0. 0. 0. 0. 0. 0. 0. 0. 0. 0. 0.\n",
      " 0. 0. 0. 0. 0. 0. 0.]\n",
      "\n",
      "Validation Loss: 0.772  \u001b[1m Accuracy(metric_all_all)\u001b[0m: \u001b[1m 0.590 (0.590) \u001b[0m, Precision: 0.990, Recall: 0.166\n",
      "Testing only with 0 LOS input elements: \u001b[1m Accuracy (metric_all_0) \u001b[0m: \u001b[1m 0.555  \u001b[0m, Precision: 0.806, Recall: 0.008,\u001b[1m metric_1_0 \u001b[0m: 0.008\n",
      "Validation Random Permutation Accuracy: 0.506\n"
     ]
    },
    {
     "data": {
      "image/png": "[encoded data removed]",
      "text/plain": [
       "<Figure size 720x360 with 3 Axes>"
      ]
     },
     "metadata": {
      "needs_background": "light"
     },
     "output_type": "display_data"
    },
    {
     "name": "stdout",
     "output_type": "stream",
     "text": [
      "step: 10100, loss: 0.4240, Train Acc: 0.831\n",
      "step: 10200, loss: 0.4288, Train Acc: 0.819\n",
      "step: 10300, loss: 0.4402, Train Acc: 0.819\n",
      "step: 10400, loss: 0.4690, Train Acc: 0.796\n",
      "step: 10500, loss: 0.4199, Train Acc: 0.832\n",
      "step: 10600, loss: 0.4436, Train Acc: 0.808\n",
      "step: 10700, loss: 0.4122, Train Acc: 0.838\n",
      "step: 10800, loss: 0.4465, Train Acc: 0.811\n",
      "step: 10900, loss: 0.4600, Train Acc: 0.801\n",
      "step: 11000, loss: 0.4689, Train Acc: 0.785\n",
      "Learning rate:  [0.06973568]\n",
      "Correct Y[920]: [0 0 0 0 0 0 0 0 0 0 0 0 0 0 0 0 0 0 0 1 0 0 0 0 0 0 0 0 0 1 1]\n",
      "Predicted Y[920]: [0. 0. 0. 0. 0. 0. 0. 0. 0. 0. 0. 0. 0. 0. 0. 0. 0. 0. 0. 0. 0. 0. 0. 0.\n",
      " 0. 0. 0. 0. 0. 0. 0.]\n",
      "\n",
      "Validation Loss: 0.759  \u001b[1m Accuracy(metric_all_all)\u001b[0m: \u001b[1m 0.591 (0.591) \u001b[0m, Precision: 0.991, Recall: 0.168\n",
      "Testing only with 0 LOS input elements: \u001b[1m Accuracy (metric_all_0) \u001b[0m: \u001b[1m 0.557  \u001b[0m, Precision: 0.860, Recall: 0.011,\u001b[1m metric_1_0 \u001b[0m: 0.011\n",
      "Validation Random Permutation Accuracy: 0.510\n"
     ]
    },
    {
     "data": {
      "image/png": "[encoded data removed]",
      "text/plain": [
       "<Figure size 720x360 with 3 Axes>"
      ]
     },
     "metadata": {
      "needs_background": "light"
     },
     "output_type": "display_data"
    },
    {
     "name": "stdout",
     "output_type": "stream",
     "text": [
      "step: 11100, loss: 0.4310, Train Acc: 0.823\n",
      "step: 11200, loss: 0.4198, Train Acc: 0.829\n",
      "step: 11300, loss: 0.4419, Train Acc: 0.820\n",
      "step: 11400, loss: 0.4573, Train Acc: 0.802\n",
      "step: 11500, loss: 0.4058, Train Acc: 0.837\n",
      "step: 11600, loss: 0.4738, Train Acc: 0.793\n",
      "step: 11700, loss: 0.4138, Train Acc: 0.834\n",
      "step: 11800, loss: 0.4167, Train Acc: 0.834\n",
      "step: 11900, loss: 0.4091, Train Acc: 0.838\n",
      "step: 12000, loss: 0.4113, Train Acc: 0.837\n",
      "Learning rate:  [0.06276211]\n",
      "Correct Y[1384]: [1 1 1 1 1 1 1 1 1 1 1 1 1 1 1 1 1 1 1 1 1 1 1 1 1 1 1 1 1 0 0]\n",
      "Predicted Y[1384]: [0. 0. 0. 0. 0. 0. 0. 0. 0. 0. 0. 0. 0. 0. 0. 0. 0. 0. 0. 0. 0. 0. 0. 0.\n",
      " 0. 0. 0. 0. 0. 0. 0.]\n",
      "\n",
      "Validation Loss: 0.760  \u001b[1m Accuracy(metric_all_all)\u001b[0m: \u001b[1m 0.591 (0.591) \u001b[0m, Precision: 0.990, Recall: 0.167\n",
      "Testing only with 0 LOS input elements: \u001b[1m Accuracy (metric_all_0) \u001b[0m: \u001b[1m 0.556  \u001b[0m, Precision: 0.822, Recall: 0.009,\u001b[1m metric_1_0 \u001b[0m: 0.009\n",
      "Validation Random Permutation Accuracy: 0.510\n"
     ]
    },
    {
     "data": {
      "image/png": "[encoded data removed]",
      "text/plain": [
       "<Figure size 720x360 with 3 Axes>"
      ]
     },
     "metadata": {
      "needs_background": "light"
     },
     "output_type": "display_data"
    },
    {
     "name": "stdout",
     "output_type": "stream",
     "text": [
      "step: 12100, loss: 0.4204, Train Acc: 0.835\n",
      "step: 12200, loss: 0.4072, Train Acc: 0.846\n",
      "step: 12300, loss: 0.4362, Train Acc: 0.814\n",
      "step: 12400, loss: 0.4250, Train Acc: 0.832\n",
      "step: 12500, loss: 0.4451, Train Acc: 0.812\n",
      "step: 12600, loss: 0.4333, Train Acc: 0.821\n",
      "step: 12700, loss: 0.4358, Train Acc: 0.815\n",
      "step: 12800, loss: 0.4667, Train Acc: 0.796\n",
      "step: 12900, loss: 0.4081, Train Acc: 0.840\n",
      "step: 13000, loss: 0.4386, Train Acc: 0.818\n",
      "Learning rate:  [0.0564859]\n",
      "Correct Y[1281]: [0 0 0 0 0 0 0 0 0 0 0 0 0 0 0 0 0 1 0 0 0 0 1 0 0 0 0 0 0 0 0]\n",
      "Predicted Y[1281]: [0. 0. 0. 0. 0. 0. 0. 0. 0. 0. 0. 0. 0. 0. 0. 0. 0. 0. 0. 0. 0. 0. 0. 0.\n",
      " 0. 0. 0. 0. 0. 0. 0.]\n",
      "\n",
      "Validation Loss: 0.767  \u001b[1m Accuracy(metric_all_all)\u001b[0m: \u001b[1m 0.591 (0.591) \u001b[0m, Precision: 0.986, Recall: 0.168\n",
      "Testing only with 0 LOS input elements: \u001b[1m Accuracy (metric_all_0) \u001b[0m: \u001b[1m 0.556  \u001b[0m, Precision: 0.783, Recall: 0.010,\u001b[1m metric_1_0 \u001b[0m: 0.010\n",
      "Validation Random Permutation Accuracy: 0.505\n"
     ]
    },
    {
     "data": {
      "image/png": "[encoded data removed]",
      "text/plain": [
       "<Figure size 720x360 with 3 Axes>"
      ]
     },
     "metadata": {
      "needs_background": "light"
     },
     "output_type": "display_data"
    },
    {
     "name": "stdout",
     "output_type": "stream",
     "text": [
      "step: 13100, loss: 0.4166, Train Acc: 0.838\n",
      "step: 13200, loss: 0.4558, Train Acc: 0.805\n",
      "step: 13300, loss: 0.4414, Train Acc: 0.814\n",
      "step: 13400, loss: 0.4159, Train Acc: 0.838\n",
      "step: 13500, loss: 0.4189, Train Acc: 0.834\n",
      "step: 13600, loss: 0.4353, Train Acc: 0.819\n",
      "step: 13700, loss: 0.4666, Train Acc: 0.798\n",
      "step: 13800, loss: 0.4320, Train Acc: 0.823\n",
      "step: 13900, loss: 0.4395, Train Acc: 0.820\n",
      "step: 14000, loss: 0.4068, Train Acc: 0.839\n",
      "Learning rate:  [0.05083731]\n",
      "Correct Y[1125]: [1 1 1 1 1 1 1 0 1 1 1 1 1 1 1 1 1 1 1 1 1 1 1 1 1 1 1 1 1 1 1]\n",
      "Predicted Y[1125]: [0. 0. 0. 0. 0. 0. 0. 0. 0. 0. 0. 0. 0. 0. 0. 0. 0. 0. 0. 0. 0. 0. 0. 0.\n",
      " 0. 0. 0. 0. 0. 0. 0.]\n",
      "\n",
      "Validation Loss: 0.768  \u001b[1m Accuracy(metric_all_all)\u001b[0m: \u001b[1m 0.592 (0.592) \u001b[0m, Precision: 0.991, Recall: 0.169\n",
      "Testing only with 0 LOS input elements: \u001b[1m Accuracy (metric_all_0) \u001b[0m: \u001b[1m 0.557  \u001b[0m, Precision: 0.869, Recall: 0.012,\u001b[1m metric_1_0 \u001b[0m: 0.012\n",
      "Validation Random Permutation Accuracy: 0.504\n"
     ]
    },
    {
     "data": {
      "image/png": "[encoded data removed]",
      "text/plain": [
       "<Figure size 720x360 with 3 Axes>"
      ]
     },
     "metadata": {
      "needs_background": "light"
     },
     "output_type": "display_data"
    },
    {
     "name": "stdout",
     "output_type": "stream",
     "text": [
      "step: 14100, loss: 0.4560, Train Acc: 0.805\n",
      "step: 14200, loss: 0.4449, Train Acc: 0.809\n",
      "step: 14300, loss: 0.4518, Train Acc: 0.807\n",
      "step: 14400, loss: 0.4187, Train Acc: 0.829\n",
      "step: 14500, loss: 0.4475, Train Acc: 0.812\n",
      "step: 14600, loss: 0.4334, Train Acc: 0.817\n",
      "step: 14700, loss: 0.4560, Train Acc: 0.807\n",
      "step: 14800, loss: 0.4624, Train Acc: 0.796\n",
      "step: 14900, loss: 0.4290, Train Acc: 0.822\n",
      "step: 15000, loss: 0.4384, Train Acc: 0.815\n",
      "Learning rate:  [0.045753576]\n",
      "Correct Y[790]: [0 0 1 0 0 0 0 0 0 0 0 0 0 0 0 0 0 0 1 1 0 0 0 0 0 0 0 0 0 0 0]\n",
      "Predicted Y[790]: [0. 0. 0. 0. 0. 0. 0. 0. 0. 0. 0. 0. 0. 0. 0. 0. 0. 0. 0. 0. 0. 0. 0. 0.\n",
      " 0. 0. 0. 0. 0. 0. 0.]\n",
      "\n",
      "Validation Loss: 0.762  \u001b[1m Accuracy(metric_all_all)\u001b[0m: \u001b[1m 0.592 (0.592) \u001b[0m, Precision: 0.987, Recall: 0.170\n",
      "Testing only with 0 LOS input elements: \u001b[1m Accuracy (metric_all_0) \u001b[0m: \u001b[1m 0.557  \u001b[0m, Precision: 0.833, Recall: 0.013,\u001b[1m metric_1_0 \u001b[0m: 0.013\n",
      "Validation Random Permutation Accuracy: 0.503\n"
     ]
    },
    {
     "data": {
      "image/png": "[encoded data removed]",
      "text/plain": [
       "<Figure size 720x360 with 3 Axes>"
      ]
     },
     "metadata": {
      "needs_background": "light"
     },
     "output_type": "display_data"
    },
    {
     "name": "stdout",
     "output_type": "stream",
     "text": [
      "step: 15100, loss: 0.4385, Train Acc: 0.817\n",
      "step: 15200, loss: 0.4171, Train Acc: 0.837\n",
      "step: 15300, loss: 0.4190, Train Acc: 0.824\n",
      "step: 15400, loss: 0.4177, Train Acc: 0.828\n",
      "step: 15500, loss: 0.4149, Train Acc: 0.834\n",
      "step: 15600, loss: 0.4050, Train Acc: 0.840\n",
      "step: 15700, loss: 0.4364, Train Acc: 0.823\n",
      "step: 15800, loss: 0.4366, Train Acc: 0.814\n",
      "step: 15900, loss: 0.4333, Train Acc: 0.821\n",
      "step: 16000, loss: 0.4495, Train Acc: 0.816\n",
      "Learning rate:  [0.04117822]\n",
      "Correct Y[1276]: [0 0 0 0 0 1 0 0 0 0 0 0 0 0 0 0 0 0 0 0 0 0 0 0 0 0 0 0 0 1 1]\n",
      "Predicted Y[1276]: [0. 0. 0. 0. 0. 0. 0. 0. 0. 0. 0. 0. 0. 0. 0. 0. 0. 0. 0. 0. 0. 0. 0. 0.\n",
      " 0. 0. 0. 0. 0. 0. 0.]\n",
      "\n",
      "Validation Loss: 0.759  \u001b[1m Accuracy(metric_all_all)\u001b[0m: \u001b[1m 0.592 (0.592) \u001b[0m, Precision: 0.983, Recall: 0.171\n",
      "Testing only with 0 LOS input elements: \u001b[1m Accuracy (metric_all_0) \u001b[0m: \u001b[1m 0.557  \u001b[0m, Precision: 0.801, Recall: 0.014,\u001b[1m metric_1_0 \u001b[0m: 0.014\n",
      "Validation Random Permutation Accuracy: 0.503\n"
     ]
    },
    {
     "data": {
      "image/png": "[encoded data removed]",
      "text/plain": [
       "<Figure size 720x360 with 3 Axes>"
      ]
     },
     "metadata": {
      "needs_background": "light"
     },
     "output_type": "display_data"
    },
    {
     "name": "stdout",
     "output_type": "stream",
     "text": [
      "step: 16100, loss: 0.4066, Train Acc: 0.835\n",
      "step: 16200, loss: 0.4382, Train Acc: 0.829\n",
      "step: 16300, loss: 0.4121, Train Acc: 0.838\n",
      "step: 16400, loss: 0.4426, Train Acc: 0.814\n",
      "step: 16500, loss: 0.4426, Train Acc: 0.814\n",
      "step: 16600, loss: 0.4265, Train Acc: 0.826\n",
      "step: 16700, loss: 0.4430, Train Acc: 0.813\n",
      "step: 16800, loss: 0.4457, Train Acc: 0.809\n",
      "step: 16900, loss: 0.4517, Train Acc: 0.809\n",
      "step: 17000, loss: 0.4211, Train Acc: 0.832\n",
      "Learning rate:  [0.0370604]\n",
      "Correct Y[2073]: [0 0 1 0 0 0 0 0 0 0 0 0 0 0 0 0 1 0 0 0 0 0 0 0 0 0 0 0 0 0 0]\n",
      "Predicted Y[2073]: [0. 0. 0. 0. 0. 0. 0. 0. 0. 0. 0. 0. 0. 0. 0. 0. 0. 0. 0. 0. 0. 0. 0. 0.\n",
      " 0. 0. 0. 0. 0. 0. 0.]\n",
      "\n",
      "Validation Loss: 0.783  \u001b[1m Accuracy(metric_all_all)\u001b[0m: \u001b[1m 0.592 (0.592) \u001b[0m, Precision: 0.990, Recall: 0.170\n",
      "Testing only with 0 LOS input elements: \u001b[1m Accuracy (metric_all_0) \u001b[0m: \u001b[1m 0.558  \u001b[0m, Precision: 0.868, Recall: 0.013,\u001b[1m metric_1_0 \u001b[0m: 0.013\n",
      "Validation Random Permutation Accuracy: 0.505\n"
     ]
    },
    {
     "data": {
      "image/png": "[encoded data removed]",
      "text/plain": [
       "<Figure size 720x360 with 3 Axes>"
      ]
     },
     "metadata": {
      "needs_background": "light"
     },
     "output_type": "display_data"
    },
    {
     "name": "stdout",
     "output_type": "stream",
     "text": [
      "step: 17100, loss: 0.4171, Train Acc: 0.839\n",
      "step: 17200, loss: 0.3876, Train Acc: 0.853\n",
      "step: 17300, loss: 0.4221, Train Acc: 0.835\n",
      "step: 17400, loss: 0.4142, Train Acc: 0.838\n",
      "step: 17500, loss: 0.4124, Train Acc: 0.841\n",
      "step: 17600, loss: 0.4143, Train Acc: 0.831\n",
      "step: 17700, loss: 0.3980, Train Acc: 0.846\n",
      "step: 17800, loss: 0.4567, Train Acc: 0.799\n",
      "step: 17900, loss: 0.4482, Train Acc: 0.808\n",
      "step: 18000, loss: 0.4292, Train Acc: 0.825\n",
      "Learning rate:  [0.033354357]\n",
      "Correct Y[324]: [1 1 1 1 1 1 1 0 1 1 1 1 1 1 1 1 1 1 1 1 1 1 1 1 1 1 1 1 1 1 1]\n",
      "Predicted Y[324]: [0. 0. 0. 0. 0. 0. 0. 0. 0. 0. 0. 0. 0. 0. 0. 0. 0. 0. 0. 0. 0. 0. 0. 0.\n",
      " 0. 0. 0. 0. 0. 0. 0.]\n",
      "\n",
      "Validation Loss: 0.757  \u001b[1m Accuracy(metric_all_all)\u001b[0m: \u001b[1m 0.593 (0.593) \u001b[0m, Precision: 0.984, Recall: 0.173\n",
      "Testing only with 0 LOS input elements: \u001b[1m Accuracy (metric_all_0) \u001b[0m: \u001b[1m 0.559  \u001b[0m, Precision: 0.832, Recall: 0.016,\u001b[1m metric_1_0 \u001b[0m: 0.016\n",
      "Validation Random Permutation Accuracy: 0.507\n"
     ]
    },
    {
     "data": {
      "image/png": "[encoded data removed]",
      "text/plain": [
       "<Figure size 720x360 with 3 Axes>"
      ]
     },
     "metadata": {
      "needs_background": "light"
     },
     "output_type": "display_data"
    },
    {
     "name": "stdout",
     "output_type": "stream",
     "text": [
      "step: 18100, loss: 0.4336, Train Acc: 0.817\n",
      "step: 18200, loss: 0.4453, Train Acc: 0.814\n",
      "step: 18300, loss: 0.4229, Train Acc: 0.832\n",
      "step: 18400, loss: 0.4353, Train Acc: 0.819\n",
      "step: 18500, loss: 0.4295, Train Acc: 0.820\n",
      "step: 18600, loss: 0.4328, Train Acc: 0.817\n",
      "step: 18700, loss: 0.4145, Train Acc: 0.828\n",
      "step: 18800, loss: 0.3988, Train Acc: 0.850\n",
      "step: 18900, loss: 0.4324, Train Acc: 0.810\n",
      "step: 19000, loss: 0.4729, Train Acc: 0.791\n",
      "Learning rate:  [0.030018922]\n",
      "Correct Y[548]: [0 0 0 0 0 0 0 0 0 0 0 0 0 0 0 0 0 0 0 0 0 0 0 0 0 0 0 0 0 0 0]\n",
      "Predicted Y[548]: [0. 0. 0. 0. 0. 0. 0. 0. 0. 0. 0. 0. 0. 0. 0. 0. 0. 0. 0. 0. 0. 0. 0. 0.\n",
      " 0. 0. 0. 0. 0. 0. 0.]\n",
      "\n",
      "Validation Loss: 0.758  \u001b[1m Accuracy(metric_all_all)\u001b[0m: \u001b[1m 0.594 (0.594) \u001b[0m, Precision: 0.988, Recall: 0.174\n",
      "Testing only with 0 LOS input elements: \u001b[1m Accuracy (metric_all_0) \u001b[0m: \u001b[1m 0.560  \u001b[0m, Precision: 0.873, Recall: 0.018,\u001b[1m metric_1_0 \u001b[0m: 0.018\n",
      "Validation Random Permutation Accuracy: 0.506\n"
     ]
    },
    {
     "data": {
      "image/png": "[encoded data removed]",
      "text/plain": [
       "<Figure size 720x360 with 3 Axes>"
      ]
     },
     "metadata": {
      "needs_background": "light"
     },
     "output_type": "display_data"
    },
    {
     "name": "stdout",
     "output_type": "stream",
     "text": [
      "step: 19100, loss: 0.4487, Train Acc: 0.811\n",
      "step: 19200, loss: 0.4499, Train Acc: 0.805\n",
      "step: 19300, loss: 0.4462, Train Acc: 0.812\n",
      "step: 19400, loss: 0.4808, Train Acc: 0.788\n",
      "step: 19500, loss: 0.4334, Train Acc: 0.819\n",
      "step: 19600, loss: 0.3895, Train Acc: 0.850\n",
      "step: 19700, loss: 0.4187, Train Acc: 0.831\n",
      "step: 19800, loss: 0.4519, Train Acc: 0.813\n",
      "step: 19900, loss: 0.4001, Train Acc: 0.840\n",
      "step: 20000, loss: 0.4221, Train Acc: 0.831\n",
      "Learning rate:  [0.027017029]\n",
      "Correct Y[2780]: [0 0 0 0 0 0 0 0 0 0 0 0 0 0 0 0 0 0 0 0 0 0 0 0 0 0 0 0 0 0 0]\n",
      "Predicted Y[2780]: [0. 0. 0. 0. 0. 0. 0. 0. 0. 0. 0. 0. 0. 0. 0. 0. 0. 0. 0. 0. 0. 0. 0. 0.\n",
      " 0. 0. 0. 0. 0. 0. 0.]\n",
      "\n",
      "Validation Loss: 0.762  \u001b[1m Accuracy(metric_all_all)\u001b[0m: \u001b[1m 0.593 (0.593) \u001b[0m, Precision: 0.983, Recall: 0.173\n",
      "Testing only with 0 LOS input elements: \u001b[1m Accuracy (metric_all_0) \u001b[0m: \u001b[1m 0.559  \u001b[0m, Precision: 0.819, Recall: 0.016,\u001b[1m metric_1_0 \u001b[0m: 0.016\n",
      "Validation Random Permutation Accuracy: 0.508\n"
     ]
    },
    {
     "data": {
      "image/png": "[encoded data removed]",
      "text/plain": [
       "<Figure size 720x360 with 3 Axes>"
      ]
     },
     "metadata": {
      "needs_background": "light"
     },
     "output_type": "display_data"
    },
    {
     "name": "stdout",
     "output_type": "stream",
     "text": [
      "step: 20100, loss: 0.4197, Train Acc: 0.825\n",
      "step: 20200, loss: 0.4655, Train Acc: 0.796\n",
      "step: 20300, loss: 0.4165, Train Acc: 0.819\n",
      "step: 20400, loss: 0.4673, Train Acc: 0.793\n",
      "step: 20500, loss: 0.4074, Train Acc: 0.839\n"
     ]
    }
   ],
   "source": [
    "##### session\n",
    "width = 0.35\n",
    "\n",
    "pos_acc = [0]*31\n",
    "pos_precision = [0]*31\n",
    "pos_recall = [0]*31\n",
    "###########################\n",
    "pos_acc_0 = [0]*31\n",
    "pos_precision_0 = [0]*31\n",
    "pos_recall_0 = [0]*31\n",
    "########################\n",
    "#Trying to print out the weights\n",
    "# Always restart kernel before printing weights/biases\n",
    "# refer: https://stackoverflow.com/questions/36193553/get-the-value-of-some-weights-in-a-model-trained-by-tensorflow\n",
    "for v in tf.trainable_variables():\n",
    "    #print(v.name)\n",
    "    #print(v)\n",
    "    if v.name == \"dense/kernel:0\":\n",
    "        layer1weights = v\n",
    "        print(layer1weights)\n",
    "    if v.name == \"dense/bias:0\":\n",
    "        layer1bias = v\n",
    "        print(layer1bias)\n",
    "        \n",
    "    \n",
    "layer1weights = [v for v in tf.trainable_variables() if v.name == \"dense/kernel:0\"][0]\n",
    "layer1bias = [v for v in tf.trainable_variables() if v.name == \"dense/bias:0\"][0]\n",
    "\n",
    "layer1weights\n",
    "with tf.Session() as sess:\n",
    "    sess.run(init)\n",
    "    for step in range(training_epochs + 1):\n",
    "        train_x, train_y = train_next_batch(batch_size)\n",
    "        # Run optimization op (backprop)\n",
    "        sess.run(train_op, feed_dict={X: train_x, Y: train_y})\n",
    "        \n",
    "        if step % display_train_step == 0 or step == 1:\n",
    "            loss, acc = sess.run([cost, accuracy], feed_dict={X: train_x, Y: train_y})\n",
    "            print(\"step: \"+str(step)+\", loss: {:.4f}\".format(loss)+\", Train Acc: {:.3f}\".format(acc))\n",
    "            \n",
    "        if (((step % learning_rate_iter) == 0) and (step != 0)):\n",
    "            curr_learning_rate = sess.run([learning_rate])\n",
    "            print(\"Learning rate: \", curr_learning_rate)\n",
    "            sess.run(learning_rate_update, feed_dict={new_learning_rate: learning_rate_decay*curr_learning_rate[0]})\n",
    "\n",
    "        \n",
    "        if step % display_test_step == 0:\n",
    "            test_x, test_y = test_next_batch()     \n",
    "            val_loss, acc, p, c = sess.run([cost, accuracy, pred_labels, correct_pred], feed_dict={X: test_x, Y: test_y})\n",
    "            #Printing out a random test case\n",
    "            randIndex = np.random.randint(total_test_points)\n",
    "            print(f\"Correct Y[{randIndex}]: {test_y[randIndex,:]}\")\n",
    "            print(f\"Predicted Y[{randIndex}]: {p[randIndex,:]}\")\n",
    "            \n",
    "            if flag_31pts:\n",
    "                for idx in range(31):\n",
    "                    cmat_test = confusion_matrix(y_true=test_y[:,idx], y_pred=p[:,idx])\n",
    "                    if cmat_test.size == 1:    #in case all outputs are 0s or 1s\n",
    "                        tempMatrix = np.zeros((2, 2))\n",
    "                        tempMatrix[0][0] = cmat_test[0]\n",
    "                        cmat_test = tempMatrix\n",
    "                    pos_acc[idx] = (cmat_test[0,0]+cmat_test[1,1])*1.0/(np.sum(cmat_test))\n",
    "                    pos_precision[idx] = cmat_test[1,1]*1.0/(cmat_test[0,1] + cmat_test[1,1])\n",
    "                    pos_recall[idx] = cmat_test[1,1]*1.0/(cmat_test[1,0] + cmat_test[1,1])\n",
    "            \n",
    "            cmat_test = confusion_matrix(y_true=test_y.flatten(), y_pred=p.flatten())\n",
    "            total_acc = (cmat_test[0,0]+cmat_test[1,1])*1.0/(np.sum(cmat_test))\n",
    "            precision = cmat_test[1,1]*1.0/(cmat_test[0,1] + cmat_test[1,1])\n",
    "            recall = cmat_test[1,1]*1.0/(cmat_test[1,0] + cmat_test[1,1])\n",
    "            print(\"\\nValidation Loss: {:.3f}  \\033[1m Accuracy(metric_all_all)\\033[0m: \\033[1m {:.3f} ({:.3f}) \\033[0m, Precision: {:.3f}, Recall: {:.3f}\".format(val_loss, total_acc, acc, precision, recall))\n",
    "            ######################################\n",
    "            ### Calculating accuracy for only the 0 LOS test cases\n",
    "            \n",
    "            if not(flag_preferZerosTesting):\n",
    "                print(f\"\\033[1m Zeros are not preferred during testing Accuracy is not correct for metric_all_0 and metric_1_0!!!! \\033[0m\")\n",
    "\n",
    "            zeroPresent = np.sum(test_y == 0, axis = 1)>0\n",
    "            test_y_0 = test_y[zeroPresent, :]\n",
    "            p_0 = p[zeroPresent, :]\n",
    "            #print(f\"{test_y_0.shape}\\n{test_y.shape}\")\n",
    "            if flag_31pts:\n",
    "                for idx in range(31):\n",
    "                    cmat_test_0 = confusion_matrix(y_true=test_y_0[:,idx], y_pred=p_0[:,idx])\n",
    "                    if cmat_test_0.size == 1:    #in case all outputs are 0s or 1s\n",
    "                        tempMatrix = np.zeros((2, 2))\n",
    "                        tempMatrix[0][0] = cmat_test[0]\n",
    "                        cmat_test_0 = tempMatrix\n",
    "                    pos_acc_0[idx] = (cmat_test_0[0,0]+cmat_test_0[1,1])*1.0/(np.sum(cmat_test_0))\n",
    "                    pos_precision_0[idx] = cmat_test_0[1,1]*1.0/(cmat_test_0[0,1] + cmat_test_0[1,1])\n",
    "                    pos_recall_0[idx] = cmat_test_0[1,1]*1.0/(cmat_test_0[1,0] + cmat_test_0[1,1])\n",
    "\n",
    "            cmat_test_0 = confusion_matrix(y_true=test_y_0.flatten(), y_pred=p_0.flatten())\n",
    "            #print(f\"np.sum(cmat_test_0) : {np.sum(cmat_test_0)},test_y_0: {test_y_0.size}\")\n",
    "            total_acc_0 = (cmat_test_0[0,0]+cmat_test_0[1,1])*1.0/(np.sum(cmat_test_0))\n",
    "            precision_0 = cmat_test_0[1,1]*1.0/(cmat_test_0[0,1] + cmat_test_0[1,1])\n",
    "            recall_0 = cmat_test_0[1,1]*1.0/(cmat_test_0[1,0] + cmat_test_0[1,1])\n",
    "            metric_1_0 = cmat_test_0[1,1]/ np.sum(test_y_0==1)\n",
    "            print(\"Testing only with 0 LOS input elements: \\033[1m Accuracy (metric_all_0) \\033[0m: \\033[1m {:.3f}  \\033[0m, Precision: {:.3f}, Recall: {:.3f},\\033[1m metric_1_0 \\033[0m: {:.3f}\".format( total_acc_0, precision_0, recall_0, metric_1_0))            \n",
    "            ######################################\n",
    "            \n",
    "            \n",
    "            index = list(range(test_y.shape[0]))\n",
    "            shuffle(index)\n",
    "            test_y_rnd = test_y[index,:]\n",
    "            acc_rnd = sess.run([accuracy], feed_dict={X: test_x, Y: test_y_rnd})\n",
    "            print(\"Validation Random Permutation Accuracy: {:.3f}\".format(acc_rnd[0]))\n",
    "            \n",
    "            if flag_plot and flag_31pts:\n",
    "                plt.rcParams['figure.figsize'] = [10, 5]\n",
    "                fig, axes = plt.subplots(3, sharex=True)\n",
    "                axes[0].bar(range(1,32), pos_acc, width)\n",
    "                axes[1].bar(range(1,32), pos_precision, width)\n",
    "                axes[2].bar(range(1,32), pos_recall, width)\n",
    "                axes[2].set_xlabel('AP Location Index')\n",
    "                axes[0].set_ylabel('Accuracy')\n",
    "                axes[1].set_ylabel('Precision')\n",
    "                axes[2].set_ylabel('Recall')\n",
    "                plt.show()\n",
    "    \n",
    "\n",
    "#     print(\"Mean of weights from each input neuron: \")\n",
    "#     for ii in range(0,157):\n",
    "#         print(f\"Neuron {ii}: {np.mean(sess.run(layer1weights)[ii])}\")\n",
    "    \n",
    "#     print(\"Bias:\")\n",
    "    \n",
    "#     for ii in range(0,32):\n",
    "#         print(f\"Neuron {ii}: {(sess.run(layer1bias)[ii])}\")\n",
    "\n",
    " "
   ]
  }
 ],
 "metadata": {
  "kernelspec": {
   "display_name": "Python 3",
   "language": "python",
   "name": "python3"
  },
  "language_info": {
   "codemirror_mode": {
    "name": "ipython",
    "version": 3
   },
   "file_extension": ".py",
   "mimetype": "text/x-python",
   "name": "python",
   "nbconvert_exporter": "python",
   "pygments_lexer": "ipython3",
   "version": "3.7.5"
  }
 },
 "nbformat": 4,
 "nbformat_minor": 4
}